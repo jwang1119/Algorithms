{
 "cells": [
  {
   "cell_type": "code",
   "execution_count": 12,
   "metadata": {},
   "outputs": [
    {
     "data": {
      "text/plain": [
       "0"
      ]
     },
     "execution_count": 12,
     "metadata": {},
     "output_type": "execute_result"
    }
   ],
   "source": [
    "# Find the smallest item\n",
    "def findsmallest(list):\n",
    "    smallest = list[0]\n",
    "    smallest_index = 0\n",
    "    for i in range(1, len(list)):\n",
    "        if list[i] < smallest:\n",
    "            smallest = list[i]\n",
    "            smallest_index = i\n",
    "    return smallest_index\n",
    "\n",
    "list = [0, 2, 4, 6, 8, 10]\n",
    "findsmallest(list)"
   ]
  },
  {
   "cell_type": "code",
   "execution_count": 13,
   "metadata": {},
   "outputs": [
    {
     "data": {
      "text/plain": [
       "[0, 2, 4, 6, 8, 10]"
      ]
     },
     "execution_count": 13,
     "metadata": {},
     "output_type": "execute_result"
    }
   ],
   "source": [
    "# Sorting\n",
    "def sort(list):\n",
    "    sorted_list = []\n",
    "    for i in range(len(list)):\n",
    "        smallest = findsmallest(list)\n",
    "        sorted_list.append(list.pop(smallest))  # pop: Removes the element at the specified position\n",
    "    return sorted_list\n",
    "\n",
    "list = [6, 8, 4, 0, 2, 10]\n",
    "sort(list)"
   ]
  },
  {
   "cell_type": "code",
   "execution_count": null,
   "metadata": {},
   "outputs": [],
   "source": []
  }
 ],
 "metadata": {
  "kernelspec": {
   "display_name": "Python 3",
   "language": "python",
   "name": "python3"
  },
  "language_info": {
   "codemirror_mode": {
    "name": "ipython",
    "version": 3
   },
   "file_extension": ".py",
   "mimetype": "text/x-python",
   "name": "python",
   "nbconvert_exporter": "python",
   "pygments_lexer": "ipython3",
   "version": "3.7.1"
  }
 },
 "nbformat": 4,
 "nbformat_minor": 2
}
